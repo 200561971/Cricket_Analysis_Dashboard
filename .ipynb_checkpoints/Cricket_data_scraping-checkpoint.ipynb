{
 "cells": [
  {
   "cell_type": "code",
   "execution_count": 1,
   "id": "33702e12-c1bc-4c22-9f3c-1bfb9a8c6d73",
   "metadata": {
    "tags": []
   },
   "outputs": [],
   "source": [
    "from bs4 import BeautifulSoup\n",
    "import requests"
   ]
  },
  {
   "cell_type": "code",
   "execution_count": 9,
   "id": "462edbcd-e4d9-4039-98d9-2eb6e28d9603",
   "metadata": {
    "tags": []
   },
   "outputs": [],
   "source": [
    "url = 'https://www.espncricinfo.com/cricketers/team/afghanistan-40/alpha-a'\n",
    "base_url = 'https://www.espncricinfo.com'"
   ]
  },
  {
   "cell_type": "code",
   "execution_count": 14,
   "id": "c8e87eda-a9b3-48e3-ab37-41ef80b4d956",
   "metadata": {
    "tags": []
   },
   "outputs": [],
   "source": [
    "def get_content(url):\n",
    "    response = requests.get(url)\n",
    "    if response.status_code ==200:\n",
    "        content = response.content\n",
    "    else:\n",
    "        content =  \"Error finding page\"\n",
    "    return content\n"
   ]
  },
  {
   "cell_type": "code",
   "execution_count": 5,
   "id": "09432f22-b31b-46a3-ad3b-445c6abba369",
   "metadata": {
    "tags": []
   },
   "outputs": [],
   "source": []
  },
  {
   "cell_type": "code",
   "execution_count": 23,
   "id": "7956ed7f-54bb-4c3a-9a88-7f61af5f8811",
   "metadata": {
    "tags": []
   },
   "outputs": [],
   "source": [
    "# Finds the alphabetical links of all players in a team\n",
    "\n",
    "def find_team_aplhas(team_url):\n",
    "    content = get_content(team_url)\n",
    "    team_alphas = []\n",
    "    if content == \"Error finding page\":\n",
    "        return content\n",
    "    soup = BeautifulSoup(content,'html.parser')\n",
    "    alpha_bar = soup.find_all('div',{'class':'ds-px-4'})\n",
    "    for elements in alpha_bar:\n",
    "        a_tags = elements.find_all('a',{'class':'ds-h-10'})\n",
    "        for tag in a_tags:\n",
    "            if '/alpha-' in tag['href']:\n",
    "                team_alphas.append(tag['href'])\n",
    "    team_alphas = [base_url+ link for link in team_alphas]\n",
    "    return team_alphas\n",
    "    \n",
    "    "
   ]
  },
  {
   "cell_type": "code",
   "execution_count": 16,
   "id": "294490d9-bee2-455b-846e-7a3d56f18ad2",
   "metadata": {
    "tags": []
   },
   "outputs": [],
   "source": [
    "# Finds all the links to player data from alphabetical links\n",
    "\n",
    "def find_players_by_alpha(url):\n",
    "    content = get_content(url)\n",
    "    if content == \"Error finding page\":\n",
    "        return content\n",
    "    soup = BeautifulSoup(content, 'html.parser')\n",
    "    grid = soup.find_all('div',{'class':'ds-grid'})\n",
    "    players_links = []\n",
    "    for div in grid:\n",
    "        links = div.find_all('a',{'class':'ds-flex'})\n",
    "        for link in links:\n",
    "            players_link.append(base_url+link['href'])\n",
    "    return players_links"
   ]
  },
  {
   "cell_type": "code",
   "execution_count": 22,
   "id": "c7dcde10-5b88-4eab-afef-2c71da370853",
   "metadata": {
    "tags": []
   },
   "outputs": [
    {
     "name": "stdout",
     "output_type": "stream",
     "text": [
      "https://www.espncricinfo.com/cricketers/team/afghanistan-40/alpha-a\n",
      "https://www.espncricinfo.com/cricketers/team/afghanistan-40/alpha-b\n",
      "https://www.espncricinfo.com/cricketers/team/afghanistan-40/alpha-d\n",
      "https://www.espncricinfo.com/cricketers/team/afghanistan-40/alpha-e\n",
      "https://www.espncricinfo.com/cricketers/team/afghanistan-40/alpha-f\n",
      "https://www.espncricinfo.com/cricketers/team/afghanistan-40/alpha-g\n",
      "https://www.espncricinfo.com/cricketers/team/afghanistan-40/alpha-h\n",
      "https://www.espncricinfo.com/cricketers/team/afghanistan-40/alpha-i\n",
      "https://www.espncricinfo.com/cricketers/team/afghanistan-40/alpha-j\n",
      "https://www.espncricinfo.com/cricketers/team/afghanistan-40/alpha-k\n",
      "https://www.espncricinfo.com/cricketers/team/afghanistan-40/alpha-l\n",
      "https://www.espncricinfo.com/cricketers/team/afghanistan-40/alpha-m\n",
      "https://www.espncricinfo.com/cricketers/team/afghanistan-40/alpha-n\n",
      "https://www.espncricinfo.com/cricketers/team/afghanistan-40/alpha-o\n",
      "https://www.espncricinfo.com/cricketers/team/afghanistan-40/alpha-p\n",
      "https://www.espncricinfo.com/cricketers/team/afghanistan-40/alpha-q\n",
      "https://www.espncricinfo.com/cricketers/team/afghanistan-40/alpha-r\n",
      "https://www.espncricinfo.com/cricketers/team/afghanistan-40/alpha-s\n",
      "https://www.espncricinfo.com/cricketers/team/afghanistan-40/alpha-t\n",
      "https://www.espncricinfo.com/cricketers/team/afghanistan-40/alpha-u\n",
      "https://www.espncricinfo.com/cricketers/team/afghanistan-40/alpha-w\n",
      "https://www.espncricinfo.com/cricketers/team/afghanistan-40/alpha-y\n",
      "https://www.espncricinfo.com/cricketers/team/afghanistan-40/alpha-z\n"
     ]
    }
   ],
   "source": []
  },
  {
   "cell_type": "code",
   "execution_count": null,
   "id": "c8dad749-c437-4e8a-bf82-2e966da9a08e",
   "metadata": {},
   "outputs": [],
   "source": []
  }
 ],
 "metadata": {
  "kernelspec": {
   "display_name": "Python 3 (ipykernel)",
   "language": "python",
   "name": "python3"
  },
  "language_info": {
   "codemirror_mode": {
    "name": "ipython",
    "version": 3
   },
   "file_extension": ".py",
   "mimetype": "text/x-python",
   "name": "python",
   "nbconvert_exporter": "python",
   "pygments_lexer": "ipython3",
   "version": "3.10.11"
  }
 },
 "nbformat": 4,
 "nbformat_minor": 5
}
