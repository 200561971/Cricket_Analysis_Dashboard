{
 "cells": [
  {
   "cell_type": "code",
   "execution_count": 37,
   "id": "33702e12-c1bc-4c22-9f3c-1bfb9a8c6d73",
   "metadata": {
    "tags": []
   },
   "outputs": [],
   "source": [
    "from bs4 import BeautifulSoup\n",
    "import requests\n",
    "import pandas as pd"
   ]
  },
  {
   "cell_type": "code",
   "execution_count": 38,
   "id": "462edbcd-e4d9-4039-98d9-2eb6e28d9603",
   "metadata": {
    "tags": []
   },
   "outputs": [],
   "source": [
    "url = 'https://www.espncricinfo.com/cricketers/team/afghanistan-40/alpha-a'\n",
    "base_url = 'https://www.espncricinfo.com'"
   ]
  },
  {
   "cell_type": "code",
   "execution_count": 39,
   "id": "c8e87eda-a9b3-48e3-ab37-41ef80b4d956",
   "metadata": {
    "tags": []
   },
   "outputs": [],
   "source": [
    "def get_content_from_url(url):\n",
    "    response = requests.get(url)\n",
    "    if response.status_code ==200:\n",
    "        content = response.content\n",
    "    else:\n",
    "        content =  \"Error finding page\"\n",
    "    return content\n"
   ]
  },
  {
   "cell_type": "code",
   "execution_count": 137,
   "id": "8d97b279-f025-4e1f-baaf-708f98524b83",
   "metadata": {
    "tags": []
   },
   "outputs": [],
   "source": [
    "# Finds the list of urls for each teams\n",
    "def get_teams_url(url):\n",
    "    content = get_content(url)\n",
    "    soup = BeautifulSoup(content,'html.parser')\n",
    "    teams_divs = soup.find_all('div',{'class':'ds-grid'})[0]\n",
    "    teams_url = []\n",
    "    for team_div in teams_divs:\n",
    "    #    print(team_div,'\\n')\n",
    "        team_name = team_div.text\n",
    "        team_url = base_url +'/cricketers' + team_div['href']\n",
    "        teams_url.append({\n",
    "            'team_name': team_name,\n",
    "            'team_url': team_url\n",
    "        })\n",
    "    return teams_url"
   ]
  },
  {
   "cell_type": "code",
   "execution_count": 144,
   "id": "7956ed7f-54bb-4c3a-9a88-7f61af5f8811",
   "metadata": {
    "tags": []
   },
   "outputs": [],
   "source": [
    "# Finds the alphabetical links of all players in a team\n",
    "\n",
    "def get_team_aplhas(team_url):\n",
    "    content = get_content_from_url(team_url)\n",
    "    team_alphas = []\n",
    "    if content == \"Error finding page\":\n",
    "        return content\n",
    "    soup = BeautifulSoup(content,'html.parser')\n",
    "    alpha_bar = soup.find_all('div',{'class':'ds-px-4'})\n",
    "    for elements in alpha_bar:\n",
    "        a_tags = elements.find_all('a',{'class':'ds-h-10'})\n",
    "        for tag in a_tags:\n",
    "            if '/alpha-' in tag['href']:\n",
    "                team_alphas.append(tag['href'])\n",
    "    team_alphas = [base_url+ link for link in team_alphas]\n",
    "    return team_alphas\n",
    "    \n",
    "    "
   ]
  },
  {
   "cell_type": "code",
   "execution_count": 145,
   "id": "294490d9-bee2-455b-846e-7a3d56f18ad2",
   "metadata": {
    "tags": []
   },
   "outputs": [],
   "source": [
    "# Finds all the links to player data from alphabetical links\n",
    "\n",
    "def get_players_by_alpha(url):\n",
    "    content = get_content_from_url(url)\n",
    "    if content == \"Error finding page\":\n",
    "        return content\n",
    "    soup = BeautifulSoup(content, 'html.parser')\n",
    "    grid = soup.find_all('div',{'class':'ds-grid'})\n",
    "    players_links = []\n",
    "    for div in grid:\n",
    "        links = div.find_all('a',{'class':'ds-flex'})\n",
    "        for link in links:\n",
    "            players_links.append(base_url+link['href'])\n",
    "    return players_links"
   ]
  },
  {
   "cell_type": "code",
   "execution_count": 189,
   "id": "c8dad749-c437-4e8a-bf82-2e966da9a08e",
   "metadata": {},
   "outputs": [],
   "source": [
    "# Finds all the player data and returns it as a dictionary\n",
    "def get_player_data(player_url):\n",
    "    content = get_content_from_url(player_url)\n",
    "    if content == \"Error finding page\":\n",
    "        print(content)\n",
    "    soup = BeautifulSoup(content,'html.parser')\n",
    "    player_data = {}\n",
    "    player_profile_div = soup.find_all('div',{'class':'ds-p-4'})[0]\n",
    "    for div in player_profile_div:\n",
    "        title = div.find_all('p',{'class':'ds-uppercase'})\n",
    "        for tag in title:\n",
    "            player_key = tag.text\n",
    "            player_value = tag.next_sibling.text\n",
    "            player_data[player_key] = player_value\n",
    "    stats = get_player_stats(player_url)\n",
    "    for key,value in stats.items():\n",
    "        player_data[key] = value\n",
    "        \n",
    "    records_url = get_player_records(soup)\n",
    "    player_data['records_url'] = records_url\n",
    "    get_player_image(soup)\n",
    "    return player_data\n",
    "\n",
    "def get_player_stats(player_url):\n",
    "    tables = pd.read_html(player_url)\n",
    "    if len(tables) < 2:\n",
    "        return {}\n",
    "    batting_fielding = tables[0]\n",
    "    bowling = tables[1] \n",
    "    return {\n",
    "        'batting_fielding': batting_fielding,\n",
    "        'bowling': bowling\n",
    "    }\n",
    "\n",
    "def get_player_records(player_soup):\n",
    "    records_url = player_soup.find_all('a',string='View more records')\n",
    "    if len(records_url) == 0:\n",
    "        return ''\n",
    "    records_url = base_url + records_url[0]['href']\n",
    "    return records_url\n",
    "\n",
    "def get_player_image(player_soup):\n",
    "    image_div = player_soup.find('div',{'class':'ds-ml-auto'})\n",
    "    print(image_div)"
   ]
  },
  {
   "cell_type": "code",
   "execution_count": 190,
   "id": "ad4e3a8c-4da9-4846-8394-5e31aab7bd8a",
   "metadata": {
    "tags": []
   },
   "outputs": [
    {
     "name": "stdout",
     "output_type": "stream",
     "text": [
      "<div class=\"ds-ml-auto ds-w-48 ds-h-48\"><div style=\"position:relative;padding-bottom:100%;height:0;overflow:hidden\"><img alt=\"Virat Kohli\" class=\"\" src=\"https://wassets.hscicdn.com/static/images/lazyimage-transparent.png\" style=\"position:absolute;top:0;left:0;width:100%;height:100%\"/></div></div>\n"
     ]
    },
    {
     "data": {
      "text/plain": [
       "{'Full Name': 'Virat Kohli',\n",
       " 'Born': 'November 05, 1988, Delhi',\n",
       " 'Age': '34y 289d',\n",
       " 'Batting Style': 'Right hand Bat',\n",
       " 'Bowling Style': 'Right arm Medium',\n",
       " 'Playing Role': 'Top order Batter',\n",
       " 'batting_fielding':    Format  Mat  Inns  NO   Runs    HS    Ave     BF      SR  100s  50s    4s  \\\n",
       " 0    Test  111   187  11   8676  254*  49.29  15708   55.23    29   29   966   \n",
       " 1     ODI  275   265  40  12898   183  57.32  13776   93.62    46   65  1211   \n",
       " 2    T20I  115   107  31   4008  122*  52.73   2905  137.96     1   37   356   \n",
       " 3      FC  143   235  18  10925  254*  50.34  19611   55.70    36   37  1279   \n",
       " 4  List A  309   298  43  14340   183  56.23  15312   93.65    50   73  1375   \n",
       " 5     T20  374   357  68  11965  122*  41.40   8972  133.35     8   91  1069   \n",
       " \n",
       "     6s   Ct  St  \n",
       " 0   24  110   0  \n",
       " 1  138  142   0  \n",
       " 2  117   50   0  \n",
       " 3   39  141   0  \n",
       " 4  162  160   0  \n",
       " 5  371  170   0  ,\n",
       " 'bowling':    Format  Mat  Inns  Balls  Runs  Wkts   BBI   BBM     Ave  Econ     SR  4w  \\\n",
       " 0    Test  111    11    175    84     0     -     -       -  2.88      -   0   \n",
       " 1     ODI  275    48    641   665     4  1/15  1/15  166.25  6.22  160.2   0   \n",
       " 2    T20I  115    13    152   204     4  1/13  1/13   51.00  8.05   38.0   0   \n",
       " 3      FC  143    25    643   338     3  1/19  2/42  112.66  3.15  214.3   0   \n",
       " 4  List A  309    55    705   726     4  1/15  1/15  181.50  6.17  176.2   0   \n",
       " 5     T20  374    45    460   667     8  2/25  2/25   83.37  8.70   57.5   0   \n",
       " \n",
       "    5w  10w  \n",
       " 0   0    0  \n",
       " 1   0    0  \n",
       " 2   0    0  \n",
       " 3   0    0  \n",
       " 4   0    0  \n",
       " 5   0    0  ,\n",
       " 'records_url': 'https://www.espncricinfo.com/cricketers/virat-kohli-253802/tests-odi-t20-records'}"
      ]
     },
     "execution_count": 190,
     "metadata": {},
     "output_type": "execute_result"
    }
   ],
   "source": [
    "get_player_data('https://www.espncricinfo.com/cricketers/virat-kohli-253802')"
   ]
  },
  {
   "cell_type": "code",
   "execution_count": 167,
   "id": "1d9e24eb-ee68-4584-823c-2aae8cb7b52d",
   "metadata": {
    "tags": []
   },
   "outputs": [],
   "source": [
    "import time"
   ]
  },
  {
   "cell_type": "code",
   "execution_count": 171,
   "id": "fef24143-151b-48d8-b956-007fd28e9ea6",
   "metadata": {
    "tags": []
   },
   "outputs": [
    {
     "name": "stdout",
     "output_type": "stream",
     "text": [
      "https://www.espncricinfo.com/cricketers/ted-a-beckett-3931\n",
      "https://www.espncricinfo.com/cricketers/sean-abbott-398666\n",
      "https://www.espncricinfo.com/cricketers/warwick-adlam-3940\n",
      "https://www.espncricinfo.com/cricketers/ashton-agar-505120\n",
      "https://www.espncricinfo.com/cricketers/wes-agar-959833\n",
      "https://www.espncricinfo.com/cricketers/lachlan-aitken-1356600\n",
      "https://www.espncricinfo.com/cricketers/lee-albon-53590\n",
      "https://www.espncricinfo.com/cricketers/terry-alderman-3943\n",
      "https://www.espncricinfo.com/cricketers/george-alexander-3944\n",
      "https://www.espncricinfo.com/cricketers/harry-alexander-3945\n",
      "https://www.espncricinfo.com/cricketers/sarah-aley-53670\n",
      "https://www.espncricinfo.com/cricketers/frank-allan-3950\n",
      "https://www.espncricinfo.com/cricketers/peter-allan-3953\n",
      "https://www.espncricinfo.com/cricketers/richard-allen-323798\n",
      "https://www.espncricinfo.com/cricketers/reginald-allen-3958\n",
      "https://www.espncricinfo.com/cricketers/phil-alley-3961\n",
      "https://www.espncricinfo.com/cricketers/jeremy-allison-428508\n",
      "https://www.espncricinfo.com/cricketers/mary-allitt-53475\n",
      "https://www.espncricinfo.com/cricketers/liz-amos-53476\n",
      "https://www.espncricinfo.com/cricketers/charlie-anderson-1356605\n",
      "https://www.espncricinfo.com/cricketers/matthew-anderson-3968\n",
      "https://www.espncricinfo.com/cricketers/tim-anderson-4074\n",
      "https://www.espncricinfo.com/cricketers/sarah-andrews-53631\n",
      "https://www.espncricinfo.com/cricketers/tom-andrews-605566\n",
      "https://www.espncricinfo.com/cricketers/tommy-andrews-3971\n",
      "https://www.espncricinfo.com/cricketers/jo-angel-3975\n",
      "https://www.espncricinfo.com/cricketers/austin-anlezark-1357425\n",
      "https://www.espncricinfo.com/cricketers/denise-annetts-53477\n",
      "https://www.espncricinfo.com/cricketers/peggy-antonio-53474\n",
      "https://www.espncricinfo.com/cricketers/monty-archdale-326792\n",
      "https://www.espncricinfo.com/cricketers/ken-archer-3978\n",
      "https://www.espncricinfo.com/cricketers/ron-archer-3980\n",
      "https://www.espncricinfo.com/cricketers/huntley-armstrong-4005\n",
      "https://www.espncricinfo.com/cricketers/tim-armstrong-333766\n",
      "https://www.espncricinfo.com/cricketers/warwick-armstrong-3982\n",
      "https://www.espncricinfo.com/cricketers/ben-ashkenazi-605568\n",
      "https://www.espncricinfo.com/cricketers/nathan-ashley-4054\n",
      "https://www.espncricinfo.com/cricketers/shaun-austin-272432\n",
      "https://www.espncricinfo.com/cricketers/clinton-auty-4004\n",
      "https://www.espncricinfo.com/cricketers/riley-ayre-638911\n"
     ]
    }
   ],
   "source": [
    "teams = get_teams_url('https://www.espncricinfo.com/team')\n",
    "teams_alphas = get_team_aplhas(teams[1]['team_url'])\n",
    "players = get_players_by_alpha(teams_alphas[0])\n",
    "player_data = []\n",
    "for player in players:\n",
    "    print(player)\n",
    "    player_data.append(get_player_data(player))\n",
    "    time.sleep(1)"
   ]
  },
  {
   "cell_type": "code",
   "execution_count": 172,
   "id": "0733e8ed-f563-4fcd-9475-73b78dbecd54",
   "metadata": {
    "tags": []
   },
   "outputs": [
    {
     "data": {
      "text/plain": [
       "{'Full Name': \"Edward Lambert a'Beckett\",\n",
       " 'Born': 'August 11, 1907, East St Kilda, Melbourne, Victoria',\n",
       " 'Died': 'June 02, 1989, Terang, Victoria, (aged 81y 295d)',\n",
       " 'Batting Style': 'Right hand Bat',\n",
       " 'Bowling Style': 'Right arm Fast medium',\n",
       " 'batting_fielding':   Format  Mat  Inns  NO  Runs   HS    Ave  100s  50s 6s  Ct  St\n",
       " 0   Test    4     7   0   143   41  20.42     0    0  0   4   0\n",
       " 1     FC   47    64   8  1636  152  29.21     2    7  -  35   0,\n",
       " 'bowling':   Format  Mat Inns  Balls  Runs  Wkts    BBI   BBM     Ave  Econ     SR 4w  \\\n",
       " 0   Test    4    8   1062   317     3   1/41  1/66  105.66  1.79  354.0  0   \n",
       " 1     FC   47    -   9196  3062   105  6/119     -   29.16  1.99   87.5  -   \n",
       " \n",
       "    5w  10w  \n",
       " 0   0    0  \n",
       " 1   3    0  ,\n",
       " 'records_url': ''}"
      ]
     },
     "execution_count": 172,
     "metadata": {},
     "output_type": "execute_result"
    }
   ],
   "source": [
    "player_data[0]"
   ]
  },
  {
   "cell_type": "code",
   "execution_count": 174,
   "id": "f4803e1e-e0a4-47a4-8c6f-755b3bfd4e18",
   "metadata": {
    "tags": []
   },
   "outputs": [
    {
     "name": "stdout",
     "output_type": "stream",
     "text": [
      "Edward Lambert a'Beckett\n",
      "Sean Anthony Abbott\n",
      "Warwick James Adlam\n",
      "Ashton Charles Agar\n",
      "Wesley Austin Agar\n",
      "Lachlan Aitken\n",
      "Leanne Margaret Albon\n",
      "Terence Michael Alderman\n",
      "George Alexander\n",
      "Harry Houston Alexander\n",
      "Sarah Elizabeth Aley\n",
      "Francis Erskine Allan\n",
      "Peter John Allan\n",
      "Richard Allen\n",
      "Reginald Charles Allen\n",
      "Phillip John Sydney Alley\n",
      "Jeremy Hammond Allison\n",
      "Mary Allitt\n",
      "Elizabeth Amos\n",
      "Charlie Anderson\n",
      "Matthew Allan Anderson\n",
      "Timothy Laurence Anderson\n",
      "Sarah Joy Andrews\n",
      "Thomas David Andrews\n",
      "Thomas James Edwin Andrews\n",
      "Jo Angel\n",
      "Austin Anlezark\n",
      "Denise Audrey Annetts\n",
      "Peggy Antonio\n",
      "Monty Archdale\n",
      "Kenneth Alan Archer\n",
      "Ronald Graham Archer\n",
      "Glenarvon Huntley Armstrong\n",
      "Timothy John Armstrong\n",
      "Warwick Windridge Armstrong\n",
      "Ben Matthew Ashkenazi\n",
      "Nathan William Ashley\n",
      "Shaun Nicholas Austin\n",
      "Clinton Auty\n",
      "Riley R Ayre\n"
     ]
    }
   ],
   "source": [
    "for player in player_data:\n",
    "    print(player['Full Name'])"
   ]
  },
  {
   "cell_type": "code",
   "execution_count": 170,
   "id": "1b67ad73-759f-4c12-9a78-c1e032ff47c6",
   "metadata": {
    "tags": []
   },
   "outputs": [
    {
     "name": "stdout",
     "output_type": "stream",
     "text": [
      "[{'team_name': 'Afghanistan', 'team_url': 'https://www.espncricinfo.com/cricketers/team/afghanistan-40'}, {'team_name': 'Australia', 'team_url': 'https://www.espncricinfo.com/cricketers/team/australia-2'}, {'team_name': 'Bangladesh', 'team_url': 'https://www.espncricinfo.com/cricketers/team/bangladesh-25'}, {'team_name': 'England', 'team_url': 'https://www.espncricinfo.com/cricketers/team/england-1'}, {'team_name': 'India', 'team_url': 'https://www.espncricinfo.com/cricketers/team/india-6'}, {'team_name': 'Ireland', 'team_url': 'https://www.espncricinfo.com/cricketers/team/ireland-29'}, {'team_name': 'New Zealand', 'team_url': 'https://www.espncricinfo.com/cricketers/team/new-zealand-5'}, {'team_name': 'Pakistan', 'team_url': 'https://www.espncricinfo.com/cricketers/team/pakistan-7'}, {'team_name': 'South Africa', 'team_url': 'https://www.espncricinfo.com/cricketers/team/south-africa-3'}, {'team_name': 'Sri Lanka', 'team_url': 'https://www.espncricinfo.com/cricketers/team/sri-lanka-8'}, {'team_name': 'West Indies', 'team_url': 'https://www.espncricinfo.com/cricketers/team/west-indies-4'}, {'team_name': 'Zimbabwe', 'team_url': 'https://www.espncricinfo.com/cricketers/team/zimbabwe-9'}, {'team_name': 'Namibia', 'team_url': 'https://www.espncricinfo.com/cricketers/team/namibia-28'}, {'team_name': 'Nepal', 'team_url': 'https://www.espncricinfo.com/cricketers/team/nepal-33'}, {'team_name': 'Netherlands', 'team_url': 'https://www.espncricinfo.com/cricketers/team/netherlands-15'}, {'team_name': 'Oman', 'team_url': 'https://www.espncricinfo.com/cricketers/team/oman-37'}, {'team_name': 'Papua New Guinea', 'team_url': 'https://www.espncricinfo.com/cricketers/team/papua-new-guinea-20'}, {'team_name': 'Scotland', 'team_url': 'https://www.espncricinfo.com/cricketers/team/scotland-30'}, {'team_name': 'United Arab Emirates', 'team_url': 'https://www.espncricinfo.com/cricketers/team/united-arab-emirates-27'}, {'team_name': 'United States of America', 'team_url': 'https://www.espncricinfo.com/cricketers/team/united-states-of-america-11'}]\n"
     ]
    }
   ],
   "source": [
    "print(teams)"
   ]
  },
  {
   "cell_type": "code",
   "execution_count": 210,
   "id": "98ca2e43-110d-4501-bab7-04db0ada28f8",
   "metadata": {
    "tags": []
   },
   "outputs": [
    {
     "ename": "ModuleNotFoundError",
     "evalue": "No module named 'PyQt5.QtWebEngineWidgets'",
     "output_type": "error",
     "traceback": [
      "\u001b[0;31m---------------------------------------------------------------------------\u001b[0m",
      "\u001b[0;31mModuleNotFoundError\u001b[0m                       Traceback (most recent call last)",
      "Cell \u001b[0;32mIn[210], line 3\u001b[0m\n\u001b[1;32m      1\u001b[0m \u001b[38;5;28;01mimport\u001b[39;00m \u001b[38;5;21;01msys\u001b[39;00m\n\u001b[1;32m      2\u001b[0m \u001b[38;5;28;01mfrom\u001b[39;00m \u001b[38;5;21;01mPyQt5\u001b[39;00m\u001b[38;5;21;01m.\u001b[39;00m\u001b[38;5;21;01mQt\u001b[39;00m \u001b[38;5;28;01mimport\u001b[39;00m \u001b[38;5;241m*\u001b[39m\n\u001b[0;32m----> 3\u001b[0m \u001b[38;5;28;01mfrom\u001b[39;00m \u001b[38;5;21;01mPyQt5\u001b[39;00m\u001b[38;5;21;01m.\u001b[39;00m\u001b[38;5;21;01mQtWebEngineWidgets\u001b[39;00m \u001b[38;5;28;01mimport\u001b[39;00m \u001b[38;5;241m*\u001b[39m\n\u001b[1;32m      4\u001b[0m \u001b[38;5;28;01mfrom\u001b[39;00m \u001b[38;5;21;01mPyQt5\u001b[39;00m\u001b[38;5;21;01m.\u001b[39;00m\u001b[38;5;21;01mQtWidgets\u001b[39;00m \u001b[38;5;28;01mimport\u001b[39;00m QApplication\n",
      "\u001b[0;31mModuleNotFoundError\u001b[0m: No module named 'PyQt5.QtWebEngineWidgets'"
     ]
    }
   ],
   "source": [
    "import sys\n",
    "from PyQt5.Qt import *\n",
    "from PyQt5.QtWebEngineWidgets import *\n",
    "from PyQt5.QtWidgets import QApplication"
   ]
  },
  {
   "cell_type": "code",
   "execution_count": null,
   "id": "6f86a4bb-df31-4a82-b050-b0ec6a9b3c4d",
   "metadata": {
    "tags": []
   },
   "outputs": [
    {
     "name": "stdout",
     "output_type": "stream",
     "text": [
      "Collecting pyqtwebengine\n",
      "  Using cached PyQtWebEngine-5.15.6.tar.gz (48 kB)\n",
      "  Installing build dependencies ... \u001b[?25ldone\n",
      "\u001b[?25h  Getting requirements to build wheel ... \u001b[?25ldone\n",
      "\u001b[?25h  Preparing metadata (pyproject.toml) ... \u001b[?25l|"
     ]
    }
   ],
   "source": [
    "! pip install pyqtwebengine"
   ]
  },
  {
   "cell_type": "code",
   "execution_count": 205,
   "id": "bc478175-54e4-4fb5-af53-1a9b2fe7dec3",
   "metadata": {
    "tags": []
   },
   "outputs": [
    {
     "name": "stdout",
     "output_type": "stream",
     "text": [
      "https://img1.hscicdn.com/image/upload/f_auto,t_ds_square_w_960/lsci/db/PICTURES/CMS/240800/240853.jpg\n"
     ]
    }
   ],
   "source": [
    "c = get_content('https://www.espncricinfo.com/cricketers/virat-kohli-253802')\n",
    "soup = BeautifulSoup(c, 'html.parser')\n",
    "images = soup.find_all('div',{'class': 'ds-bg-cover'})\n",
    "for image in images:\n",
    "    img = image['style'].split('(')[1][:-1]\n",
    "    print(img)"
   ]
  },
  {
   "cell_type": "code",
   "execution_count": 207,
   "id": "a4f36d76-d005-4c25-ad54-f68dde6252f2",
   "metadata": {
    "tags": []
   },
   "outputs": [
    {
     "name": "stdout",
     "output_type": "stream",
     "text": [
      "\u001b[31mERROR: Could not find a version that satisfies the requirement PyQt4 (from versions: none)\u001b[0m\u001b[31m\n",
      "\u001b[0m\u001b[31mERROR: No matching distribution found for PyQt4\u001b[0m\u001b[31m\n",
      "\u001b[0m"
     ]
    }
   ],
   "source": []
  },
  {
   "cell_type": "code",
   "execution_count": null,
   "id": "caae06b3-8dab-493c-8f1b-081b27463a13",
   "metadata": {},
   "outputs": [],
   "source": []
  }
 ],
 "metadata": {
  "kernelspec": {
   "display_name": "Python 3 (ipykernel)",
   "language": "python",
   "name": "python3"
  },
  "language_info": {
   "codemirror_mode": {
    "name": "ipython",
    "version": 3
   },
   "file_extension": ".py",
   "mimetype": "text/x-python",
   "name": "python",
   "nbconvert_exporter": "python",
   "pygments_lexer": "ipython3",
   "version": "3.10.11"
  }
 },
 "nbformat": 4,
 "nbformat_minor": 5
}
