{
 "cells": [
  {
   "cell_type": "code",
   "execution_count": 18,
   "id": "33702e12-c1bc-4c22-9f3c-1bfb9a8c6d73",
   "metadata": {
    "tags": []
   },
   "outputs": [],
   "source": [
    "from helium import *\n",
    "from bs4 import BeautifulSoup\n",
    "import requests\n",
    "import pandas as pd\n",
    "import time"
   ]
  },
  {
   "cell_type": "code",
   "execution_count": 13,
   "id": "462edbcd-e4d9-4039-98d9-2eb6e28d9603",
   "metadata": {
    "tags": []
   },
   "outputs": [],
   "source": [
    "url = 'https://www.espncricinfo.com/cricketers/team/afghanistan-40/alpha-a'\n",
    "base_url = 'https://www.espncricinfo.com'\n",
    "teams_url = 'https://www.espncricinfo.com/team'\n",
    "records_url ='https://www.espncricinfo.com/cricketers/virat-kohli-253802/tests-odi-t20-records'"
   ]
  },
  {
   "cell_type": "code",
   "execution_count": 3,
   "id": "c8e87eda-a9b3-48e3-ab37-41ef80b4d956",
   "metadata": {
    "tags": []
   },
   "outputs": [],
   "source": [
    "def get_content_from_url(url):\n",
    "    response = requests.get(url)\n",
    "    if response.status_code ==200:\n",
    "        content = response.content\n",
    "    else:\n",
    "        content =  \"Error finding page\"\n",
    "    return content\n",
    "\n",
    "def get_content_from_url_jv(url,sleep_time = 0,scroll_down = 0):\n",
    "    delay = sleep_time\n",
    "    browser = start_chrome(url, headless=True)\n",
    "    Config.implicit_wait_secs = delay\n",
    "    helium.scroll_down(num_pixels=scroll_down)\n",
    "    html = browser.page_source\n",
    "    kill_browser()\n",
    "    return html"
   ]
  },
  {
   "cell_type": "code",
   "execution_count": 4,
   "id": "8d97b279-f025-4e1f-baaf-708f98524b83",
   "metadata": {
    "tags": []
   },
   "outputs": [],
   "source": [
    "# Finds the list of urls for each teams\n",
    "def get_teams_url(url):\n",
    "    content = get_content_from_url_jv(url,sleep_time=3,scroll_down=700)\n",
    "    soup = BeautifulSoup(content,'html.parser')\n",
    "    teams_divs = soup.find_all('div',{'class':'ds-grid'})[0]\n",
    "    teams_url = []\n",
    "    for team_div in teams_divs:\n",
    "        # print(team_div,'\\n')\n",
    "        \n",
    "        team_flag_url = team_div.find('img')['src']\n",
    "        team_name = team_div.text\n",
    "        team_url = base_url +'/cricketers' + team_div['href']\n",
    "        teams_url.append({\n",
    "            'team_name': team_name,\n",
    "            'team_url': team_url,\n",
    "            'team_flag_url':team_flag_url\n",
    "        })\n",
    "    return teams_url"
   ]
  },
  {
   "cell_type": "code",
   "execution_count": 5,
   "id": "59121183-b900-4ca9-9bee-5c610d11dadc",
   "metadata": {
    "tags": []
   },
   "outputs": [
    {
     "data": {
      "text/plain": [
       "[{'team_name': 'Afghanistan',\n",
       "  'team_url': 'https://www.espncricinfo.com/cricketers/team/afghanistan-40',\n",
       "  'team_flag_url': 'https://img1.hscicdn.com/image/upload/f_auto,t_ds_square_w_160,q_50/lsci/db/PICTURES/CMS/321000/321005.png'},\n",
       " {'team_name': 'Australia',\n",
       "  'team_url': 'https://www.espncricinfo.com/cricketers/team/australia-2',\n",
       "  'team_flag_url': 'https://img1.hscicdn.com/image/upload/f_auto,t_ds_square_w_160,q_50/lsci/db/PICTURES/CMS/340400/340493.png'},\n",
       " {'team_name': 'Bangladesh',\n",
       "  'team_url': 'https://www.espncricinfo.com/cricketers/team/bangladesh-25',\n",
       "  'team_flag_url': 'https://img1.hscicdn.com/image/upload/f_auto,t_ds_square_w_160,q_50/lsci/db/PICTURES/CMS/341400/341456.png'},\n",
       " {'team_name': 'England',\n",
       "  'team_url': 'https://www.espncricinfo.com/cricketers/team/england-1',\n",
       "  'team_flag_url': 'https://img1.hscicdn.com/image/upload/f_auto,t_ds_square_w_160,q_50/lsci/db/PICTURES/CMS/313100/313114.logo.png'},\n",
       " {'team_name': 'India',\n",
       "  'team_url': 'https://www.espncricinfo.com/cricketers/team/india-6',\n",
       "  'team_flag_url': 'https://img1.hscicdn.com/image/upload/f_auto,t_ds_square_w_160,q_50/lsci/db/PICTURES/CMS/313100/313128.logo.png'},\n",
       " {'team_name': 'Ireland',\n",
       "  'team_url': 'https://www.espncricinfo.com/cricketers/team/ireland-29',\n",
       "  'team_flag_url': 'https://img1.hscicdn.com/image/upload/f_auto,t_ds_square_w_160,q_50/lsci/db/PICTURES/CMS/313100/313149.logo.png'},\n",
       " {'team_name': 'New Zealand',\n",
       "  'team_url': 'https://www.espncricinfo.com/cricketers/team/new-zealand-5',\n",
       "  'team_flag_url': 'https://img1.hscicdn.com/image/upload/f_auto,t_ds_square_w_160,q_50/lsci/db/PICTURES/CMS/340500/340505.png'},\n",
       " {'team_name': 'Pakistan',\n",
       "  'team_url': 'https://www.espncricinfo.com/cricketers/team/pakistan-7',\n",
       "  'team_flag_url': 'https://img1.hscicdn.com/image/upload/f_auto,t_ds_square_w_160,q_50/lsci/db/PICTURES/CMS/313100/313129.logo.png'},\n",
       " {'team_name': 'South Africa',\n",
       "  'team_url': 'https://www.espncricinfo.com/cricketers/team/south-africa-3',\n",
       "  'team_flag_url': 'https://img1.hscicdn.com/image/upload/f_auto,t_ds_square_w_160,q_50/lsci/db/PICTURES/CMS/313100/313125.logo.png'},\n",
       " {'team_name': 'Sri Lanka',\n",
       "  'team_url': 'https://www.espncricinfo.com/cricketers/team/sri-lanka-8',\n",
       "  'team_flag_url': 'https://img1.hscicdn.com/image/upload/f_auto,t_ds_square_w_160,q_50/lsci/db/PICTURES/CMS/340000/340047.png'},\n",
       " {'team_name': 'West Indies',\n",
       "  'team_url': 'https://www.espncricinfo.com/cricketers/team/west-indies-4',\n",
       "  'team_flag_url': 'https://img1.hscicdn.com/image/upload/f_auto,t_ds_square_w_160,q_50/lsci/db/PICTURES/CMS/317600/317615.png'},\n",
       " {'team_name': 'Zimbabwe',\n",
       "  'team_url': 'https://www.espncricinfo.com/cricketers/team/zimbabwe-9',\n",
       "  'team_flag_url': 'https://img1.hscicdn.com/image/upload/f_auto,t_ds_square_w_160,q_50/lsci/db/PICTURES/CMS/340500/340503.png'},\n",
       " {'team_name': 'Namibia',\n",
       "  'team_url': 'https://www.espncricinfo.com/cricketers/team/namibia-28',\n",
       "  'team_flag_url': 'https://img1.hscicdn.com/image/upload/f_auto,t_ds_square_w_160,q_50/lsci/db/PICTURES/CMS/313100/313148.logo.png'},\n",
       " {'team_name': 'Nepal',\n",
       "  'team_url': 'https://www.espncricinfo.com/cricketers/team/nepal-33',\n",
       "  'team_flag_url': 'https://img1.hscicdn.com/image/upload/f_auto,t_ds_square_w_160,q_50/lsci/db/PICTURES/CMS/319900/319958.png'},\n",
       " {'team_name': 'Netherlands',\n",
       "  'team_url': 'https://www.espncricinfo.com/cricketers/team/netherlands-15',\n",
       "  'team_flag_url': 'https://img1.hscicdn.com/image/upload/f_auto,t_ds_square_w_160,q_50/lsci/db/PICTURES/CMS/313100/313136.logo.png'},\n",
       " {'team_name': 'Oman',\n",
       "  'team_url': 'https://www.espncricinfo.com/cricketers/team/oman-37',\n",
       "  'team_flag_url': 'https://img1.hscicdn.com/image/upload/f_auto,t_ds_square_w_160,q_50/lsci/db/PICTURES/CMS/358500/358573.png'},\n",
       " {'team_name': 'Papua New Guinea',\n",
       "  'team_url': 'https://www.espncricinfo.com/cricketers/team/papua-new-guinea-20',\n",
       "  'team_flag_url': 'https://img1.hscicdn.com/image/upload/f_auto,t_ds_square_w_160,q_50/lsci/db/PICTURES/CMS/346100/346147.png'},\n",
       " {'team_name': 'Scotland',\n",
       "  'team_url': 'https://www.espncricinfo.com/cricketers/team/scotland-30',\n",
       "  'team_flag_url': 'https://img1.hscicdn.com/image/upload/f_auto,t_ds_square_w_160,q_50/lsci/db/PICTURES/CMS/313100/313150.logo.png'},\n",
       " {'team_name': 'United Arab Emirates',\n",
       "  'team_url': 'https://www.espncricinfo.com/cricketers/team/united-arab-emirates-27',\n",
       "  'team_flag_url': 'https://img1.hscicdn.com/image/upload/f_auto,t_ds_square_w_160,q_50/lsci/db/PICTURES/CMS/358500/358569.png'},\n",
       " {'team_name': 'United States of America',\n",
       "  'team_url': 'https://www.espncricinfo.com/cricketers/team/united-states-of-america-11',\n",
       "  'team_flag_url': 'https://img1.hscicdn.com/image/upload/f_auto,t_ds_square_w_160,q_50/lsci/db/PICTURES/CMS/313100/313133.logo.png'}]"
      ]
     },
     "execution_count": 5,
     "metadata": {},
     "output_type": "execute_result"
    }
   ],
   "source": [
    "get_teams_url(teams_url)"
   ]
  },
  {
   "cell_type": "code",
   "execution_count": 6,
   "id": "7956ed7f-54bb-4c3a-9a88-7f61af5f8811",
   "metadata": {
    "tags": []
   },
   "outputs": [],
   "source": [
    "# Finds the alphabetical links of all players in a team\n",
    "\n",
    "def get_team_alphas(team_url):\n",
    "    content = get_content_from_url(team_url)\n",
    "    team_alphas = []\n",
    "    if content == \"Error finding page\":\n",
    "        return content\n",
    "    soup = BeautifulSoup(content,'html.parser')\n",
    "    alpha_bar = soup.find_all('div',{'class':'ds-px-4'})\n",
    "    for elements in alpha_bar:\n",
    "        a_tags = elements.find_all('a',{'class':'ds-h-10'})\n",
    "        for tag in a_tags:\n",
    "            if '/alpha-' in tag['href']:\n",
    "                team_alphas.append(tag['href'])\n",
    "    team_alphas = [base_url+ link for link in team_alphas]\n",
    "    return team_alphas\n",
    "    \n",
    "    "
   ]
  },
  {
   "cell_type": "code",
   "execution_count": 8,
   "id": "294490d9-bee2-455b-846e-7a3d56f18ad2",
   "metadata": {
    "tags": []
   },
   "outputs": [],
   "source": [
    "# Finds all the links to player data from alphabetical links\n",
    "\n",
    "def get_players_by_alpha(url):\n",
    "    content = get_content_from_url(url)\n",
    "    if content == \"Error finding page\":\n",
    "        return content\n",
    "    soup = BeautifulSoup(content, 'html.parser')\n",
    "    grid = soup.find_all('div',{'class':'ds-grid'})\n",
    "    players_links = []\n",
    "    for div in grid:\n",
    "        links = div.find_all('a',{'class':'ds-flex'})\n",
    "        for link in links:\n",
    "            players_links.append(base_url+link['href'])\n",
    "    return players_links"
   ]
  },
  {
   "cell_type": "code",
   "execution_count": 11,
   "id": "c8dad749-c437-4e8a-bf82-2e966da9a08e",
   "metadata": {},
   "outputs": [],
   "source": [
    "# Finds all the player data and returns it as a dictionary\n",
    "def get_player_data(player_url):\n",
    "    content = get_content_from_url(player_url)\n",
    "    if content == \"Error finding page\":\n",
    "        print(content)\n",
    "    soup = BeautifulSoup(content,'html.parser')\n",
    "    player_data = {}\n",
    "    player_profile_div = soup.find_all('div',{'class':'ds-p-4'})[0]\n",
    "    for div in player_profile_div:\n",
    "        title = div.find_all('p',{'class':'ds-uppercase'})\n",
    "        for tag in title:\n",
    "            player_key = tag.text\n",
    "            player_value = tag.next_sibling.text\n",
    "            player_data[player_key] = player_value\n",
    "    stats = get_player_stats(player_url)\n",
    "    for key,value in stats.items():\n",
    "        player_data[key] = value\n",
    "        \n",
    "    records_url = get_player_records(soup)\n",
    "    player_data['records_url'] = records_url\n",
    "    player_image_urls = get_player_image(player_url)\n",
    "    for key, value in player_image_urls.items():\n",
    "        player_data[key] = value\n",
    "    return player_data\n",
    "\n",
    "def get_player_stats(player_url):\n",
    "    tables = pd.read_html(player_url)\n",
    "    if len(tables) < 2:\n",
    "        return {}\n",
    "    batting_fielding = tables[0]\n",
    "    bowling = tables[1] \n",
    "    return {\n",
    "        'batting_fielding': batting_fielding,\n",
    "        'bowling': bowling\n",
    "    }\n",
    "\n",
    "def get_player_records(player_soup):\n",
    "    records_url = player_soup.find_all('a',string='View more records')\n",
    "    if len(records_url) == 0:\n",
    "        return ''\n",
    "    records_url = base_url + records_url[0]['href']\n",
    "    return records_url\n",
    "\n",
    "def get_player_image(player_url):\n",
    "    browser = start_chrome(player_url, headless=True)\n",
    "    html = browser.page_source\n",
    "    player_soup = BeautifulSoup(html,'html.parser')\n",
    "    image_div = player_soup.find('img')\n",
    "    player_image = image_div['src']\n",
    "    bg_image_div = player_soup.find_all('div',{'class': 'ds-bg-cover'})\n",
    "    for img in bg_image_div:\n",
    "        bg_image = img['style'].split('(')[1][1:-3]\n",
    "    return {\n",
    "        'player_image': player_image,\n",
    "        'background_image': bg_image\n",
    "    }"
   ]
  },
  {
   "cell_type": "code",
   "execution_count": 12,
   "id": "3071cb57-9ef9-4594-aba2-40549d39e9ba",
   "metadata": {
    "tags": []
   },
   "outputs": [
    {
     "data": {
      "text/plain": [
       "{'Full Name': 'Virat Kohli',\n",
       " 'Born': 'November 05, 1988, Delhi',\n",
       " 'Age': '34y 290d',\n",
       " 'Batting Style': 'Right hand Bat',\n",
       " 'Bowling Style': 'Right arm Medium',\n",
       " 'Playing Role': 'Top order Batter',\n",
       " 'batting_fielding':    Format  Mat  Inns  NO   Runs    HS    Ave     BF      SR  100s  50s    4s  \\\n",
       " 0    Test  111   187  11   8676  254*  49.29  15708   55.23    29   29   966   \n",
       " 1     ODI  275   265  40  12898   183  57.32  13776   93.62    46   65  1211   \n",
       " 2    T20I  115   107  31   4008  122*  52.73   2905  137.96     1   37   356   \n",
       " 3      FC  143   235  18  10925  254*  50.34  19611   55.70    36   37  1279   \n",
       " 4  List A  309   298  43  14340   183  56.23  15312   93.65    50   73  1375   \n",
       " 5     T20  374   357  68  11965  122*  41.40   8972  133.35     8   91  1069   \n",
       " \n",
       "     6s   Ct  St  \n",
       " 0   24  110   0  \n",
       " 1  138  142   0  \n",
       " 2  117   50   0  \n",
       " 3   39  141   0  \n",
       " 4  162  160   0  \n",
       " 5  371  170   0  ,\n",
       " 'bowling':    Format  Mat  Inns  Balls  Runs  Wkts   BBI   BBM     Ave  Econ     SR  4w  \\\n",
       " 0    Test  111    11    175    84     0     -     -       -  2.88      -   0   \n",
       " 1     ODI  275    48    641   665     4  1/15  1/15  166.25  6.22  160.2   0   \n",
       " 2    T20I  115    13    152   204     4  1/13  1/13   51.00  8.05   38.0   0   \n",
       " 3      FC  143    25    643   338     3  1/19  2/42  112.66  3.15  214.3   0   \n",
       " 4  List A  309    55    705   726     4  1/15  1/15  181.50  6.17  176.2   0   \n",
       " 5     T20  374    45    460   667     8  2/25  2/25   83.37  8.70   57.5   0   \n",
       " \n",
       "    5w  10w  \n",
       " 0   0    0  \n",
       " 1   0    0  \n",
       " 2   0    0  \n",
       " 3   0    0  \n",
       " 4   0    0  \n",
       " 5   0    0  ,\n",
       " 'records_url': 'https://www.espncricinfo.com/cricketers/virat-kohli-253802/tests-odi-t20-records',\n",
       " 'player_image': 'https://img1.hscicdn.com/image/upload/f_auto,t_ds_square_w_320,q_50/lsci/db/PICTURES/CMS/316600/316605.png',\n",
       " 'background_image': 'https://img1.hscicdn.com/image/upload/f_auto,t_ds_wide_w_1040/lsci/db/PICTURES/CMS/240800/240853.jpg'}"
      ]
     },
     "execution_count": 12,
     "metadata": {},
     "output_type": "execute_result"
    }
   ],
   "source": [
    "get_player_data('https://www.espncricinfo.com/cricketers/virat-kohli-253802')"
   ]
  },
  {
   "cell_type": "code",
   "execution_count": 102,
   "id": "ad4e3a8c-4da9-4846-8394-5e31aab7bd8a",
   "metadata": {
    "tags": []
   },
   "outputs": [
    {
     "data": {
      "text/plain": [
       "[{'team_name': 'Afghanistan',\n",
       "  'team_url': 'https://www.espncricinfo.com/cricketers/team/afghanistan-40'},\n",
       " {'team_name': 'Australia',\n",
       "  'team_url': 'https://www.espncricinfo.com/cricketers/team/australia-2'},\n",
       " {'team_name': 'Bangladesh',\n",
       "  'team_url': 'https://www.espncricinfo.com/cricketers/team/bangladesh-25'},\n",
       " {'team_name': 'England',\n",
       "  'team_url': 'https://www.espncricinfo.com/cricketers/team/england-1'},\n",
       " {'team_name': 'India',\n",
       "  'team_url': 'https://www.espncricinfo.com/cricketers/team/india-6'},\n",
       " {'team_name': 'Ireland',\n",
       "  'team_url': 'https://www.espncricinfo.com/cricketers/team/ireland-29'},\n",
       " {'team_name': 'New Zealand',\n",
       "  'team_url': 'https://www.espncricinfo.com/cricketers/team/new-zealand-5'},\n",
       " {'team_name': 'Pakistan',\n",
       "  'team_url': 'https://www.espncricinfo.com/cricketers/team/pakistan-7'},\n",
       " {'team_name': 'South Africa',\n",
       "  'team_url': 'https://www.espncricinfo.com/cricketers/team/south-africa-3'},\n",
       " {'team_name': 'Sri Lanka',\n",
       "  'team_url': 'https://www.espncricinfo.com/cricketers/team/sri-lanka-8'},\n",
       " {'team_name': 'West Indies',\n",
       "  'team_url': 'https://www.espncricinfo.com/cricketers/team/west-indies-4'},\n",
       " {'team_name': 'Zimbabwe',\n",
       "  'team_url': 'https://www.espncricinfo.com/cricketers/team/zimbabwe-9'},\n",
       " {'team_name': 'Namibia',\n",
       "  'team_url': 'https://www.espncricinfo.com/cricketers/team/namibia-28'},\n",
       " {'team_name': 'Nepal',\n",
       "  'team_url': 'https://www.espncricinfo.com/cricketers/team/nepal-33'},\n",
       " {'team_name': 'Netherlands',\n",
       "  'team_url': 'https://www.espncricinfo.com/cricketers/team/netherlands-15'},\n",
       " {'team_name': 'Oman',\n",
       "  'team_url': 'https://www.espncricinfo.com/cricketers/team/oman-37'},\n",
       " {'team_name': 'Papua New Guinea',\n",
       "  'team_url': 'https://www.espncricinfo.com/cricketers/team/papua-new-guinea-20'},\n",
       " {'team_name': 'Scotland',\n",
       "  'team_url': 'https://www.espncricinfo.com/cricketers/team/scotland-30'},\n",
       " {'team_name': 'United Arab Emirates',\n",
       "  'team_url': 'https://www.espncricinfo.com/cricketers/team/united-arab-emirates-27'},\n",
       " {'team_name': 'United States of America',\n",
       "  'team_url': 'https://www.espncricinfo.com/cricketers/team/united-states-of-america-11'}]"
      ]
     },
     "execution_count": 102,
     "metadata": {},
     "output_type": "execute_result"
    }
   ],
   "source": [
    "get_teams_url(teams_url)"
   ]
  },
  {
   "cell_type": "code",
   "execution_count": 19,
   "id": "fef24143-151b-48d8-b956-007fd28e9ea6",
   "metadata": {
    "tags": []
   },
   "outputs": [
    {
     "name": "stdout",
     "output_type": "stream",
     "text": [
      "https://www.espncricinfo.com/cricketers/ted-a-beckett-3931\n",
      "https://www.espncricinfo.com/cricketers/sean-abbott-398666\n",
      "https://www.espncricinfo.com/cricketers/warwick-adlam-3940\n",
      "https://www.espncricinfo.com/cricketers/ashton-agar-505120\n",
      "https://www.espncricinfo.com/cricketers/wes-agar-959833\n",
      "https://www.espncricinfo.com/cricketers/lachlan-aitken-1356600\n",
      "https://www.espncricinfo.com/cricketers/lee-albon-53590\n",
      "https://www.espncricinfo.com/cricketers/terry-alderman-3943\n",
      "https://www.espncricinfo.com/cricketers/george-alexander-3944\n",
      "https://www.espncricinfo.com/cricketers/harry-alexander-3945\n",
      "https://www.espncricinfo.com/cricketers/sarah-aley-53670\n",
      "https://www.espncricinfo.com/cricketers/frank-allan-3950\n",
      "https://www.espncricinfo.com/cricketers/peter-allan-3953\n",
      "https://www.espncricinfo.com/cricketers/richard-allen-323798\n",
      "https://www.espncricinfo.com/cricketers/reginald-allen-3958\n",
      "https://www.espncricinfo.com/cricketers/phil-alley-3961\n",
      "https://www.espncricinfo.com/cricketers/jeremy-allison-428508\n",
      "https://www.espncricinfo.com/cricketers/mary-allitt-53475\n",
      "https://www.espncricinfo.com/cricketers/liz-amos-53476\n",
      "https://www.espncricinfo.com/cricketers/charlie-anderson-1356605\n",
      "https://www.espncricinfo.com/cricketers/matthew-anderson-3968\n",
      "https://www.espncricinfo.com/cricketers/tim-anderson-4074\n",
      "https://www.espncricinfo.com/cricketers/sarah-andrews-53631\n",
      "https://www.espncricinfo.com/cricketers/tom-andrews-605566\n",
      "https://www.espncricinfo.com/cricketers/tommy-andrews-3971\n",
      "https://www.espncricinfo.com/cricketers/jo-angel-3975\n",
      "https://www.espncricinfo.com/cricketers/austin-anlezark-1357425\n",
      "https://www.espncricinfo.com/cricketers/denise-annetts-53477\n",
      "https://www.espncricinfo.com/cricketers/peggy-antonio-53474\n",
      "https://www.espncricinfo.com/cricketers/monty-archdale-326792\n",
      "https://www.espncricinfo.com/cricketers/ken-archer-3978\n",
      "https://www.espncricinfo.com/cricketers/ron-archer-3980\n",
      "https://www.espncricinfo.com/cricketers/huntley-armstrong-4005\n",
      "https://www.espncricinfo.com/cricketers/tim-armstrong-333766\n",
      "https://www.espncricinfo.com/cricketers/warwick-armstrong-3982\n",
      "https://www.espncricinfo.com/cricketers/ben-ashkenazi-605568\n",
      "https://www.espncricinfo.com/cricketers/nathan-ashley-4054\n",
      "https://www.espncricinfo.com/cricketers/shaun-austin-272432\n",
      "https://www.espncricinfo.com/cricketers/clinton-auty-4004\n",
      "https://www.espncricinfo.com/cricketers/riley-ayre-638911\n"
     ]
    }
   ],
   "source": [
    "teams = get_teams_url('https://www.espncricinfo.com/team')\n",
    "teams_alphas = get_team_alphas(teams[1]['team_url'])\n",
    "players = get_players_by_alpha(teams_alphas[0])\n",
    "player_data = []\n",
    "for player in players:\n",
    "    print(player)\n",
    "    player_data.append(get_player_data(player))\n",
    "    time.sleep(1)"
   ]
  },
  {
   "cell_type": "code",
   "execution_count": 20,
   "id": "0733e8ed-f563-4fcd-9475-73b78dbecd54",
   "metadata": {
    "tags": []
   },
   "outputs": [
    {
     "data": {
      "text/plain": [
       "{'Full Name': 'Terence Michael Alderman',\n",
       " 'Born': 'June 12, 1956, Subiaco, Perth, Western Australia',\n",
       " 'Age': '67y 71d',\n",
       " 'Batting Style': 'Right hand Bat',\n",
       " 'Bowling Style': 'Right arm Fast medium',\n",
       " 'Playing Role': 'Bowler',\n",
       " 'batting_fielding':    Format  Mat Inns  Balls   Runs  Wkts   BBI     BBM    Ave  Econ    SR 4w  \\\n",
       " 0    Test   41   73  10181   4616   170  6/47  10/151  27.15  2.72  59.8  5   \n",
       " 1     ODI   65   65   3371   2056    88  5/17    5/17  23.36  3.65  38.3  1   \n",
       " 2      FC  245    -  48701  22701   956  8/46       -  23.74  2.79  50.9  -   \n",
       " 3  List A  166    -   8829   5373   232  5/17    5/17  23.15  3.65  38.0  5   \n",
       " \n",
       "    5w  10w  \n",
       " 0  14    1  \n",
       " 1   2    0  \n",
       " 2  53    8  \n",
       " 3   4    0  ,\n",
       " 'bowling':    Format  Mat  Inns   NO  Runs   HS   Ave  BF     SR  100s  50s  4s 6s   Ct  \\\n",
       " 0    Test   41    53   22   203  26*  6.54   -      -     0    0  19  0   27   \n",
       " 1     ODI   65    18    6    32   9*  2.66  97  32.98     0    0   2  0   29   \n",
       " 2      FC  245   265  108  1307  52*  8.32   -      -     0    1   -  -  190   \n",
       " 3  List A  166    53   25   163  26*  5.82   -      -     0    0   -  -   67   \n",
       " \n",
       "    St  \n",
       " 0   0  \n",
       " 1   0  \n",
       " 2   0  \n",
       " 3   0  ,\n",
       " 'records_url': 'https://www.espncricinfo.com/cricketers/terry-alderman-3943/tests-odi-t20-records',\n",
       " 'player_image': 'https://img1.hscicdn.com/image/upload/f_auto,t_ds_square_w_320,q_50/lsci/db/PICTURES/CMS/331200/331249.png',\n",
       " 'background_image': 'https://img1.hscicdn.com/image/upload/f_auto,t_ds_wide_w_1040/lsci/db/PICTURES/CMS/52300/52341.jpg'}"
      ]
     },
     "execution_count": 20,
     "metadata": {},
     "output_type": "execute_result"
    }
   ],
   "source": [
    "player_data[7]"
   ]
  },
  {
   "cell_type": "code",
   "execution_count": 21,
   "id": "f4803e1e-e0a4-47a4-8c6f-755b3bfd4e18",
   "metadata": {
    "tags": []
   },
   "outputs": [
    {
     "name": "stdout",
     "output_type": "stream",
     "text": [
      "Edward Lambert a'Beckett\n",
      "Sean Anthony Abbott\n",
      "Warwick James Adlam\n",
      "Ashton Charles Agar\n",
      "Wesley Austin Agar\n",
      "Lachlan Aitken\n",
      "Leanne Margaret Albon\n",
      "Terence Michael Alderman\n",
      "George Alexander\n",
      "Harry Houston Alexander\n",
      "Sarah Elizabeth Aley\n",
      "Francis Erskine Allan\n",
      "Peter John Allan\n",
      "Richard Allen\n",
      "Reginald Charles Allen\n",
      "Phillip John Sydney Alley\n",
      "Jeremy Hammond Allison\n",
      "Mary Allitt\n",
      "Elizabeth Amos\n",
      "Charlie Anderson\n",
      "Matthew Allan Anderson\n",
      "Timothy Laurence Anderson\n",
      "Sarah Joy Andrews\n",
      "Thomas David Andrews\n",
      "Thomas James Edwin Andrews\n",
      "Jo Angel\n",
      "Austin Anlezark\n",
      "Denise Audrey Annetts\n",
      "Peggy Antonio\n",
      "Monty Archdale\n",
      "Kenneth Alan Archer\n",
      "Ronald Graham Archer\n",
      "Glenarvon Huntley Armstrong\n",
      "Timothy John Armstrong\n",
      "Warwick Windridge Armstrong\n",
      "Ben Matthew Ashkenazi\n",
      "Nathan William Ashley\n",
      "Shaun Nicholas Austin\n",
      "Clinton Auty\n",
      "Riley R Ayre\n"
     ]
    }
   ],
   "source": [
    "for player in player_data:\n",
    "    print(player['Full Name'])"
   ]
  },
  {
   "cell_type": "code",
   "execution_count": 14,
   "id": "1b67ad73-759f-4c12-9a78-c1e032ff47c6",
   "metadata": {
    "tags": []
   },
   "outputs": [
    {
     "ename": "NameError",
     "evalue": "name 'teams' is not defined",
     "output_type": "error",
     "traceback": [
      "\u001b[0;31m---------------------------------------------------------------------------\u001b[0m",
      "\u001b[0;31mNameError\u001b[0m                                 Traceback (most recent call last)",
      "Cell \u001b[0;32mIn[14], line 1\u001b[0m\n\u001b[0;32m----> 1\u001b[0m \u001b[38;5;28mprint\u001b[39m(\u001b[43mteams\u001b[49m)\n",
      "\u001b[0;31mNameError\u001b[0m: name 'teams' is not defined"
     ]
    }
   ],
   "source": [
    "print(teams)"
   ]
  },
  {
   "cell_type": "code",
   "execution_count": 2,
   "id": "e88af987-1e6e-400c-a801-a0df9dd9bb69",
   "metadata": {
    "tags": []
   },
   "outputs": [],
   "source": [
    "from selenium.webdriver import Chrome\n",
    "from"
   ]
  },
  {
   "cell_type": "code",
   "execution_count": 3,
   "id": "79a5122b-7636-436a-b659-7b63782fcb5d",
   "metadata": {
    "tags": []
   },
   "outputs": [],
   "source": [
    "def get_html(url:str):\n",
    "    driver = Chrome()\n",
    "    driver.get(url)\n",
    "    driver.close()"
   ]
  },
  {
   "cell_type": "code",
   "execution_count": null,
   "id": "d4ac4b6a-65b1-4a66-90e5-86baa597214e",
   "metadata": {},
   "outputs": [],
   "source": []
  }
 ],
 "metadata": {
  "kernelspec": {
   "display_name": "cricket_dash",
   "language": "python",
   "name": "cricket_dash"
  },
  "language_info": {
   "codemirror_mode": {
    "name": "ipython",
    "version": 3
   },
   "file_extension": ".py",
   "mimetype": "text/x-python",
   "name": "python",
   "nbconvert_exporter": "python",
   "pygments_lexer": "ipython3",
   "version": "3.11.4"
  }
 },
 "nbformat": 4,
 "nbformat_minor": 5
}
