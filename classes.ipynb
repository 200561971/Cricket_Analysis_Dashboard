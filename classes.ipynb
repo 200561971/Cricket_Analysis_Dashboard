{
 "cells": [
  {
   "cell_type": "code",
   "execution_count": 12,
   "id": "7bf47fb5-2baa-4c1c-8696-2982b0ea6cdb",
   "metadata": {
    "tags": []
   },
   "outputs": [],
   "source": [
    "import requests\n",
    "from datetime import datetime"
   ]
  },
  {
   "cell_type": "code",
   "execution_count": 13,
   "id": "64fdddd3-66db-43ae-ab12-5bfcfd203303",
   "metadata": {
    "tags": []
   },
   "outputs": [],
   "source": [
    "player_id=0\n",
    "player_base_url = 'https://www.espncricinfo.com/cricketers/'\n",
    "teams_base_api = 'https://hs-consumer-api.espncricinfo.com/v1/pages/team'\n",
    "player_url_by_id =f'https://hs-consumer-api.espncricinfo.com/v1/pages/player/home?playerId={player_id}'"
   ]
  },
  {
   "cell_type": "code",
   "execution_count": 2,
   "id": "f85b3124-8ecb-42f0-9c73-21e69ed6966f",
   "metadata": {
    "tags": []
   },
   "outputs": [],
   "source": [
    "class Player:\n",
    "    def __init__(\n",
    "        self,\n",
    "        slug = None,\n",
    "        id = None,\n",
    "        long_name = None,\n",
    "        gender = None,\n",
    "        image_url = None,\n",
    "        headshot_image_url=None,\n",
    "        dob=None,\n",
    "        dod=None,\n",
    "        country_team_id=None\n",
    "    ):\n",
    "        self.slug = slug\n",
    "        self.id = id\n",
    "        self.long_name = long_name\n",
    "        self.gender = gender\n",
    "        self.image_url =  image_url\n",
    "        self.headshot_image_url = headshot_image_url\n",
    "        self.dob = dob\n",
    "        self.dod = dod\n",
    "        self.country_team_id = country_team_id\n",
    "  \n",
    "    \n",
    "    def get_player_url(self):\n",
    "        if self.slug and self.id:\n",
    "            return f\"{self.slug}-{self.id}\"\n",
    "        return None\n",
    "    \n",
    "    \n",
    "    def player_from_json(player):\n",
    "        headshot_image = player.get('headshotImage')\n",
    "        if headshot_image:\n",
    "            headshot_image_url = headshot_image.get('url')\n",
    "        else:\n",
    "            headshot_image_url=None\n",
    "        return Player(\n",
    "            slug= player.get('slug'),\n",
    "            id=player.get('objectId'),\n",
    "            long_name=player.get('longName'),\n",
    "            gender = player.get('gender'),\n",
    "            image_url= player.get('imageUrl'),\n",
    "            headshot_image_url=headshot_image_url,\n",
    "            dob= parse_date_from_json(player.get('dateOfBirth')),\n",
    "            dod = parse_date_from_json(player.get('dateOfDeath')),\n",
    "            country_team_id=player.get('countryTeamId')\n",
    "            \n",
    "        )"
   ]
  },
  {
   "cell_type": "code",
   "execution_count": 14,
   "id": "93afe971-7a05-4455-8aab-7bec70087dd5",
   "metadata": {
    "tags": []
   },
   "outputs": [],
   "source": [
    "class PlayerProfile:\n",
    "    def __init__(\n",
    "        self,\n",
    "        slug = None,\n",
    "        id = None,\n",
    "        long_name = None,\n",
    "        gender = None,\n",
    "        image_url = None,\n",
    "        headshot_image_url=None,\n",
    "        dob=None,\n",
    "        dod=None,\n",
    "        country_team_id=None) -> None:\n",
    "        self.slug = slug\n",
    "        self.id = id\n",
    "        self.long_name = long_name\n",
    "        self.gender = gender\n",
    "        self.image_url =  image_url\n",
    "        self.headshot_image_url = headshot_image_url\n",
    "        self.dob = dob\n",
    "        self.dod = dod\n",
    "        self.country_team_id = country_team_id\n",
    "\n",
    "    def from_json(json):\n",
    "        headshot_image = json.get('headshotImage')\n",
    "        if headshot_image:\n",
    "            headshot_image_url = headshot_image.get('url')\n",
    "        else:\n",
    "            headshot_image_url=None\n",
    "        return Player(\n",
    "            slug= json.get('slug'),\n",
    "            id=json.get('objectId'),\n",
    "            long_name=json.get('longName'),\n",
    "            gender = json.get('gender'),\n",
    "            image_url= json.get('imageUrl'),\n",
    "            headshot_image_url=headshot_image_url,\n",
    "            dob= parse_date(json.get('dateOfBirth')),\n",
    "            dod = parse_date(json.get('dateOfDeath')),\n",
    "            country_team_id=json.get('countryTeamId')\n",
    "            \n",
    "        )\n",
    "    def get_player_url(self):\n",
    "        if self.slug and self.id:\n",
    "            return f\"{self.slug}-{self.id}\"\n",
    "        return None\n",
    "    \n",
    "    def parse_date(json):\n",
    "        if not json:\n",
    "            return None\n",
    "        year = json.get('year')\n",
    "        month = json.get('month')\n",
    "        day = json.get('date')\n",
    "        return datetime(year = year, month = month, day= day)"
   ]
  },
  {
   "cell_type": "code",
   "execution_count": 9,
   "id": "cb7092b5-dd3b-4b62-9140-2fe765415b78",
   "metadata": {
    "tags": []
   },
   "outputs": [],
   "source": [
    "class PlayerBowlingStats:\n",
    "    def __init__(self) -> None:\n",
    "        pass\n",
    "\n",
    "    def from_json(data):\n",
    "        pass"
   ]
  },
  {
   "cell_type": "code",
   "execution_count": 10,
   "id": "c457c17b-0aac-4ac6-8054-4916abdf453f",
   "metadata": {
    "tags": []
   },
   "outputs": [],
   "source": [
    "class PlayerBattingStats:\n",
    "    def __init__(self ) -> None:\n",
    "        pass\n",
    "    \n",
    "    def from_json(data):\n",
    "        pass"
   ]
  },
  {
   "cell_type": "code",
   "execution_count": 15,
   "id": "2cab6fb8-3623-4824-bf3d-115a2d4e77f0",
   "metadata": {
    "tags": []
   },
   "outputs": [],
   "source": [
    "def get_format_by_id(format_id):\n",
    "    formats = {\n",
    "        1: \"Tests\",\n",
    "        2: \"ODI\",\n",
    "        4: \"First-Class\",\n",
    "        5: \"List A\",\n",
    "        6: \"T20\"\n",
    "    }\n",
    "    return formats.get(format_id)"
   ]
  },
  {
   "cell_type": "code",
   "execution_count": null,
   "id": "53b71b0b-0772-4f17-a43d-2ef53d049795",
   "metadata": {},
   "outputs": [],
   "source": []
  }
 ],
 "metadata": {
  "kernelspec": {
   "display_name": "cricket_dash",
   "language": "python",
   "name": "cricket_dash"
  },
  "language_info": {
   "codemirror_mode": {
    "name": "ipython",
    "version": 3
   },
   "file_extension": ".py",
   "mimetype": "text/x-python",
   "name": "python",
   "nbconvert_exporter": "python",
   "pygments_lexer": "ipython3",
   "version": "3.11.4"
  }
 },
 "nbformat": 4,
 "nbformat_minor": 5
}
