{
 "cells": [
  {
   "cell_type": "code",
   "execution_count": 2,
   "id": "631b278a-07a8-457c-8302-74bb6a61fd95",
   "metadata": {
    "tags": []
   },
   "outputs": [],
   "source": [
    "import sqlite3\n",
    "from sqlite3 import Error"
   ]
  },
  {
   "cell_type": "code",
   "execution_count": 9,
   "id": "886c44e1-9310-44ab-8742-814060a86025",
   "metadata": {
    "tags": []
   },
   "outputs": [],
   "source": [
    "class CricketDB:\n",
    "    def __init__(self):\n",
    "        self.connection = None\n",
    "        \n",
    "    def create_connection(self, file:str = ''):\n",
    "        file_path = 'cricket.db'\n",
    "        if file != '':\n",
    "            file_path = file\n",
    "        try:\n",
    "            self.connection = sqlite3.connect(file_path)\n",
    "            print(\"connected to sqlite 3!\")\n",
    "        except Error as e:\n",
    "            print(f\"Error: {e}\")\n",
    "    \n",
    "    def execute_query(self,query:str):\n",
    "        if not self.connection:\n",
    "            print(\"Not connected to any db at the moment. Connect to a db to execute a query.\")\n",
    "            return\n",
    "        try:\n",
    "            self.connection.execute_query(query)\n",
    "            self.connection.commit()\n",
    "    \n",
    "    def create_teams_table(self, teams_db):\n",
    "        try:\n",
    "            self.connection.execute_query(create_query)\n",
    "    \n",
    "    \n",
    "    def close_connection(self):\n",
    "        if self.connection:\n",
    "            self.connection.close()\n",
    "            print(\"Connection with db closed.\")\n",
    "            "
   ]
  },
  {
   "cell_type": "code",
   "execution_count": 10,
   "id": "c8d0af80-363f-44ca-a192-063e7e95301b",
   "metadata": {
    "tags": []
   },
   "outputs": [
    {
     "name": "stdout",
     "output_type": "stream",
     "text": [
      "connected to sqlite 3!\n",
      "Connection with db closed.\n"
     ]
    }
   ],
   "source": [
    "cricket = CricketDB()\n",
    "cricket.create_connection()\n",
    "cricket.close_connection()"
   ]
  },
  {
   "cell_type": "code",
   "execution_count": 11,
   "id": "a6538809-06a1-4f05-a1fe-409a33b74c19",
   "metadata": {
    "tags": []
   },
   "outputs": [
    {
     "name": "stdout",
     "output_type": "stream",
     "text": [
      "x is None\n"
     ]
    }
   ],
   "source": [
    "x = None\n",
    "if not x:\n",
    "    print('x is None')"
   ]
  },
  {
   "cell_type": "code",
   "execution_count": null,
   "id": "b67381c5-12ab-4f78-90bc-42b4941afe25",
   "metadata": {},
   "outputs": [],
   "source": []
  }
 ],
 "metadata": {
  "kernelspec": {
   "display_name": "Python 3 (ipykernel)",
   "language": "python",
   "name": "python3"
  },
  "language_info": {
   "codemirror_mode": {
    "name": "ipython",
    "version": 3
   },
   "file_extension": ".py",
   "mimetype": "text/x-python",
   "name": "python",
   "nbconvert_exporter": "python",
   "pygments_lexer": "ipython3",
   "version": "3.10.11"
  }
 },
 "nbformat": 4,
 "nbformat_minor": 5
}
